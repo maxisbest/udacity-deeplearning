{
 "cells": [
  {
   "cell_type": "markdown",
   "metadata": {},
   "source": [
    "# Convolutional Autoencoder\n",
    "\n",
    "Sticking with the MNIST dataset, let's improve our autoencoder's performance using convolutional layers. Again, loading modules and the data."
   ]
  },
  {
   "cell_type": "code",
   "execution_count": null,
   "metadata": {},
   "outputs": [],
   "source": [
    "%matplotlib inline\n",
    "\n",
    "import numpy as np\n",
    "import tensorflow as tf\n",
    "import matplotlib.pyplot as plt"
   ]
  },
  {
   "cell_type": "code",
   "execution_count": null,
   "metadata": {},
   "outputs": [],
   "source": [
    "from tensorflow.examples.tutorials.mnist import input_data\n",
    "mnist = input_data.read_data_sets('MNIST_data', validation_size=0)"
   ]
  },
  {
   "cell_type": "code",
   "execution_count": 3,
   "metadata": {},
   "outputs": [
    {
     "data": {
      "text/plain": [
       "<matplotlib.image.AxesImage at 0x1280806d8>"
      ]
     },
     "execution_count": 3,
     "metadata": {},
     "output_type": "execute_result"
    },
    {
     "data": {
      "image/png": "[encoded data removed]",
      "text/plain": [
       "<matplotlib.figure.Figure at 0x120fcafd0>"
      ]
     },
     "metadata": {},
     "output_type": "display_data"
    }
   ],
   "source": [
    "img = mnist.train.images[2]\n",
    "plt.imshow(img.reshape((28, 28)), cmap='Greys_r')"
   ]
  },
  {
   "cell_type": "markdown",
   "metadata": {},
   "source": [
    "## Network Architecture\n",
    "\n",
    "The encoder part of the network will be a typical convolutional pyramid. Each convolutional layer will be followed by a max-pooling layer to reduce the dimensions of the layers. The decoder though might be something new to you. The decoder needs to convert from a narrow representation to a wide reconstructed image. For example, the representation could be a 4x4x8 max-pool layer. This is the output of the encoder, but also the input to the decoder. We want to get a 28x28x1 image out from the decoder so we need to work our way back up from the narrow decoder input layer. A schematic of the network is shown below.\n",
    "\n",
    "<img src='assets/convolutional_autoencoder.png' width=500px>\n",
    "\n",
    "Here our final encoder layer has size 4x4x8 = 128. The original images have size 28x28 = 784, so the encoded vector is roughly 16% the size of the original image. These are just suggested sizes for each of the layers. Feel free to change the depths and sizes, but remember our goal here is to find a small representation of the input data.\n",
    "\n",
    "### What's going on with the decoder\n",
    "\n",
    "Okay, so the decoder has these \"Upsample\" layers that you might not have seen before. First off, I'll discuss a bit what these layers *aren't*. Usually, you'll see **transposed convolution** layers used to increase the width and height of the layers. They work almost exactly the same as convolutional layers, but in reverse. A stride in the input layer results in a larger stride in the transposed convolution layer. For example, if you have a 3x3 kernel, a 3x3 patch in the input layer will be reduced to one unit in a convolutional layer. Comparatively, one unit in the input layer will be expanded to a 3x3 path in a transposed convolution layer. The TensorFlow API provides us with an easy way to create the layers, [`tf.nn.conv2d_transpose`](https://www.tensorflow.org/api_docs/python/tf/nn/conv2d_transpose). \n",
    "\n",
    "However, transposed convolution layers can lead to artifacts in the final images, such as checkerboard patterns. This is due to overlap in the kernels which can be avoided by setting the stride and kernel size equal. In [this Distill article](http://distill.pub/2016/deconv-checkerboard/) from Augustus Odena, *et al*, the authors show that these checkerboard artifacts can be avoided by resizing the layers using nearest neighbor or bilinear interpolation (upsampling) followed by a convolutional layer. In TensorFlow, this is easily done with [`tf.image.resize_images`](https://www.tensorflow.org/versions/r1.1/api_docs/python/tf/image/resize_images), followed by a convolution. Be sure to read the Distill article to get a better understanding of deconvolutional layers and why we're using upsampling.\n",
    "\n",
    "> **Exercise:** Build the network shown above. Remember that a convolutional layer with strides of 1 and 'same' padding won't reduce the height and width. That is, if the input is 28x28 and the convolution layer has stride = 1 and 'same' padding, the convolutional layer will also be 28x28. The max-pool layers are used the reduce the width and height. A stride of 2 will reduce the size by a factor of 2. Odena *et al* claim that nearest neighbor interpolation works best for the upsampling, so make sure to include that as a parameter in `tf.image.resize_images` or use [`tf.image.resize_nearest_neighbor`]( `https://www.tensorflow.org/api_docs/python/tf/image/resize_nearest_neighbor). For convolutional layers, use [`tf.layers.conv2d`](https://www.tensorflow.org/api_docs/python/tf/layers/conv2d). For example, you would write `conv1 = tf.layers.conv2d(inputs, 32, (5,5), padding='same', activation=tf.nn.relu)` for a layer with a depth of 32, a 5x5 kernel, stride of (1,1), padding is 'same', and a ReLU activation. Similarly, for the max-pool layers, use [`tf.layers.max_pooling2d`](https://www.tensorflow.org/api_docs/python/tf/layers/max_pooling2d)."
   ]
  },
  {
   "cell_type": "code",
   "execution_count": 4,
   "metadata": {},
   "outputs": [
    {
     "data": {
      "text/plain": [
       "784"
      ]
     },
     "execution_count": 4,
     "metadata": {},
     "output_type": "execute_result"
    }
   ],
   "source": [
    "mnist.train.images.shape[1]"
   ]
  },
  {
   "cell_type": "code",
   "execution_count": 5,
   "metadata": {},
   "outputs": [
    {
     "name": "stdout",
     "output_type": "stream",
     "text": [
      "image size:  (28, 28)\n"
     ]
    }
   ],
   "source": [
    "image_size = mnist.train.images.reshape((mnist.train.images.shape[0], 28, 28)).shape[1:]\n",
    "print('image size: ', image_size)"
   ]
  },
  {
   "cell_type": "code",
   "execution_count": 6,
   "metadata": {},
   "outputs": [
    {
     "name": "stdout",
     "output_type": "stream",
     "text": [
      "image size:  784\n",
      "This is our placeholder for the inputs:  Tensor(\"inputs:0\", shape=(?, 28, 28, 1), dtype=float32)\n",
      "This is our placeholder for the targets:  Tensor(\"targets:0\", shape=(?, 28, 28, 1), dtype=float32)\n"
     ]
    }
   ],
   "source": [
    "learning_rate = 0.001\n",
    "\n",
    "image_size = mnist.train.images.shape[1]\n",
    "print('image size: ', image_size)\n",
    "\n",
    "# Input and target placeholders\n",
    "inputs_ = tf.placeholder(tf.float32, (None, 28, 28, 1), name='inputs')\n",
    "print(\"This is our placeholder for the inputs: \", inputs_)\n",
    "\n",
    "targets_ = tf.placeholder(tf.float32, (None, 28, 28, 1), name='targets')\n",
    "print(\"This is our placeholder for the targets: \", targets_)"
   ]
  },
  {
   "cell_type": "code",
   "execution_count": 7,
   "metadata": {},
   "outputs": [
    {
     "name": "stdout",
     "output_type": "stream",
     "text": [
      "Convolution Layer conv1 Tensor(\"conv2d/Relu:0\", shape=(?, 28, 28, 16), dtype=float32)\n",
      "Now 28x28x16\n",
      "Maxpooling Layer maxpoo11 Tensor(\"max_pooling2d/MaxPool:0\", shape=(?, 14, 14, 16), dtype=float32)\n",
      "Now 14x14x16\n",
      "Convolutinal Layer conv2 Tensor(\"conv2d_2/Relu:0\", shape=(?, 14, 14, 8), dtype=float32)\n",
      "Now 14x14x8\n",
      "Maxpooling Layer maxpoo12 Tensor(\"max_pooling2d_2/MaxPool:0\", shape=(?, 7, 7, 8), dtype=float32)\n",
      "Now 7x7x8\n",
      "Convolutinal Layer conv3 Tensor(\"conv2d_3/Relu:0\", shape=(?, 7, 7, 8), dtype=float32)\n",
      "Now 7x7x8\n",
      "Encoded Tensor(\"max_pooling2d_3/MaxPool:0\", shape=(?, 4, 4, 8), dtype=float32)\n",
      "Now 4x4x8\n"
     ]
    }
   ],
   "source": [
    "### Encoder\n",
    "\n",
    "# Convolutional Layer in Tensorflow example:\n",
    "# conv1 = tf.layers.conv2d(\n",
    "#         inputs=input_layer,\n",
    "#         filters=32,\n",
    "#         kernel_size=[5, 5],\n",
    "#         padding=\"same\",\n",
    "#         activation=tf.nn.relu)\n",
    "conv1 = tf.layers.conv2d(inputs=inputs_, filters=16, kernel_size=(3, 3), padding='same', activation=tf.nn.relu)\n",
    "print(\"Convolution Layer conv1\", conv1)\n",
    "print('Now 28x28x16')\n",
    "\n",
    "# Max Pooling layer\n",
    "# max_pooling2d(\n",
    "#    inputs,\n",
    "#    pool_size,\n",
    "#    strides,\n",
    "#    padding='valid',\n",
    "#    data_format='channels_last',\n",
    "#    name=None)\n",
    "maxpool1 = tf.layers.max_pooling2d(inputs=conv1, pool_size=2, strides=2, padding='same')\n",
    "print(\"Maxpooling Layer maxpoo11\", maxpool1)\n",
    "print('Now 14x14x16')\n",
    "\n",
    "conv2 = tf.layers.conv2d(inputs=maxpool1, filters=8, kernel_size=3, padding='same', activation=tf.nn.relu)\n",
    "print(\"Convolutinal Layer conv2\", conv2)\n",
    "print('Now 14x14x8')\n",
    "\n",
    "maxpool2 = tf.layers.max_pooling2d(inputs=conv2, pool_size=2, strides=2, padding='same')\n",
    "print(\"Maxpooling Layer maxpoo12\", maxpool2)\n",
    "print('Now 7x7x8')\n",
    "\n",
    "conv3 = tf.layers.conv2d(inputs=maxpool2, filters=8, kernel_size=3, padding='same', activation=tf.nn.relu)\n",
    "print(\"Convolutinal Layer conv3\", conv3)\n",
    "print('Now 7x7x8')\n",
    "\n",
    "encoded = tf.layers.max_pooling2d(inputs=conv3, pool_size=2, strides=2, padding='same')\n",
    "print(\"Encoded\", encoded)\n",
    "print('Now 4x4x8')"
   ]
  },
  {
   "cell_type": "code",
   "execution_count": 8,
   "metadata": {},
   "outputs": [
    {
     "name": "stdout",
     "output_type": "stream",
     "text": [
      "Resize Layer  upsample1 Tensor(\"ResizeBilinear:0\", shape=(?, 7, 7, 8), dtype=float32)\n",
      "Now 7x7x8\n",
      "Convolutinal Layer conv4 Tensor(\"conv2d_4/Relu:0\", shape=(?, 7, 7, 8), dtype=float32)\n",
      "Now 7x7x8\n",
      "Resize Layer upsample2 Tensor(\"ResizeBilinear_1:0\", shape=(?, 14, 14, 8), dtype=float32)\n",
      "Now 14x14x8\n",
      "Convolutinal Layer conv5 Tensor(\"conv2d_5/Relu:0\", shape=(?, 14, 14, 8), dtype=float32)\n",
      "Now 14x14x8\n",
      "Resize Layer upsample3 Tensor(\"ResizeBilinear_2:0\", shape=(?, 28, 28, 8), dtype=float32)\n",
      "Now 28x28x8\n",
      "Convolutinal Layer conv6 Tensor(\"conv2d_6/Relu:0\", shape=(?, 28, 28, 16), dtype=float32)\n",
      "Now 28x28x16\n",
      "Logits Tensor(\"conv2d_7/BiasAdd:0\", shape=(?, 28, 28, 1), dtype=float32)\n",
      "Now 28x28x1\n",
      "Decoded Tensor(\"Sigmoid:0\", shape=(?, 28, 28, 1), dtype=float32)\n",
      "Loss Tensor(\"logistic_loss:0\", shape=(?, 28, 28, 1), dtype=float32)\n",
      "Cost Tensor(\"Mean:0\", shape=(), dtype=float32)\n",
      "Opt name: \"Adam\"\n",
      "op: \"NoOp\"\n",
      "input: \"^Adam/update_conv2d/kernel/ApplyAdam\"\n",
      "input: \"^Adam/update_conv2d/bias/ApplyAdam\"\n",
      "input: \"^Adam/update_conv2d_1/kernel/ApplyAdam\"\n",
      "input: \"^Adam/update_conv2d_1/bias/ApplyAdam\"\n",
      "input: \"^Adam/update_conv2d_2/kernel/ApplyAdam\"\n",
      "input: \"^Adam/update_conv2d_2/bias/ApplyAdam\"\n",
      "input: \"^Adam/update_conv2d_3/kernel/ApplyAdam\"\n",
      "input: \"^Adam/update_conv2d_3/bias/ApplyAdam\"\n",
      "input: \"^Adam/update_conv2d_4/kernel/ApplyAdam\"\n",
      "input: \"^Adam/update_conv2d_4/bias/ApplyAdam\"\n",
      "input: \"^Adam/update_conv2d_5/kernel/ApplyAdam\"\n",
      "input: \"^Adam/update_conv2d_5/bias/ApplyAdam\"\n",
      "input: \"^Adam/update_conv2d_6/kernel/ApplyAdam\"\n",
      "input: \"^Adam/update_conv2d_6/bias/ApplyAdam\"\n",
      "input: \"^Adam/Assign\"\n",
      "input: \"^Adam/Assign_1\"\n",
      "\n"
     ]
    }
   ],
   "source": [
    "### Decoder\n",
    "\n",
    "#resize_images(\n",
    "#    images,\n",
    "#    size,\n",
    "#    method=ResizeMethod.BILINEAR,\n",
    "#    align_corners=False\n",
    "#)\n",
    "upsample1 = tf.image.resize_images(images=encoded, size=(7,7))\n",
    "print(\"Resize Layer  upsample1\", upsample1)\n",
    "print('Now 7x7x8')\n",
    "\n",
    "conv4 = tf.layers.conv2d(inputs=upsample1, filters=8, kernel_size=3, padding='same', activation=tf.nn.relu)\n",
    "print(\"Convolutinal Layer conv4\", conv4)\n",
    "print('Now 7x7x8')\n",
    "\n",
    "upsample2 = tf.image.resize_images(images=conv4, size=(14, 14))\n",
    "print(\"Resize Layer upsample2\", upsample2)\n",
    "print('Now 14x14x8')\n",
    "\n",
    "conv5 = tf.layers.conv2d(inputs=upsample2, filters=8, kernel_size=3, padding='same', activation=tf.nn.relu)\n",
    "print(\"Convolutinal Layer conv5\", conv5)\n",
    "print('Now 14x14x8')\n",
    "\n",
    "upsample3 = tf.image.resize_images(images=conv5, size=(28, 28))\n",
    "print(\"Resize Layer upsample3\", upsample3)\n",
    "print('Now 28x28x8')\n",
    "\n",
    "conv6 = tf.layers.conv2d(inputs=upsample3, filters=16, kernel_size=3, padding='same', activation=tf.nn.relu)\n",
    "print(\"Convolutinal Layer conv6\", conv6)\n",
    "print('Now 28x28x16')\n",
    "\n",
    "logits = tf.layers.conv2d(inputs=conv6, filters=1, kernel_size=3, padding='same')\n",
    "print(\"Logits\", logits)\n",
    "print('Now 28x28x1')\n",
    "\n",
    "# Pass logits through sigmoid to get reconstructed image\n",
    "decoded = tf.nn.sigmoid(logits)\n",
    "print(\"Decoded\", decoded)\n",
    "\n",
    "# Pass logits through sigmoid and calculate the cross-entropy loss\n",
    "loss = tf.nn.sigmoid_cross_entropy_with_logits(logits=logits, labels=targets_)\n",
    "print(\"Loss\", loss)\n",
    "\n",
    "# Get cost and define the optimizer\n",
    "cost = tf.reduce_mean(loss)\n",
    "print(\"Cost\", cost)\n",
    "opt = tf.train.AdamOptimizer(learning_rate).minimize(cost)\n",
    "print(\"Opt\", opt)"
   ]
  },
  {
   "cell_type": "markdown",
   "metadata": {},
   "source": [
    "## Training\n",
    "\n",
    "As before, here we'll train the network. Instead of flattening the images though, we can pass them in as 28x28x1 arrays."
   ]
  },
  {
   "cell_type": "code",
   "execution_count": 9,
   "metadata": {},
   "outputs": [],
   "source": [
    "sess = tf.Session()"
   ]
  },
  {
   "cell_type": "code",
   "execution_count": 10,
   "metadata": {
    "scrolled": true
   },
   "outputs": [
    {
     "name": "stdout",
     "output_type": "stream",
     "text": [
      "Epoch: 1/20... Training loss: 0.1692\n",
      "Epoch: 2/20... Training loss: 0.1439\n",
      "Epoch: 3/20... Training loss: 0.1297\n",
      "Epoch: 4/20... Training loss: 0.1258\n",
      "Epoch: 5/20... Training loss: 0.1244\n",
      "Epoch: 6/20... Training loss: 0.1163\n",
      "Epoch: 7/20... Training loss: 0.1139\n",
      "Epoch: 8/20... Training loss: 0.1124\n",
      "Epoch: 9/20... Training loss: 0.1123\n",
      "Epoch: 10/20... Training loss: 0.1098\n",
      "Epoch: 11/20... Training loss: 0.1124\n",
      "Epoch: 12/20... Training loss: 0.1124\n",
      "Epoch: 13/20... Training loss: 0.1083\n",
      "Epoch: 14/20... Training loss: 0.1064\n",
      "Epoch: 15/20... Training loss: 0.1051\n",
      "Epoch: 16/20... Training loss: 0.1059\n",
      "Epoch: 17/20... Training loss: 0.1058\n",
      "Epoch: 18/20... Training loss: 0.1003\n",
      "Epoch: 19/20... Training loss: 0.1018\n",
      "Epoch: 20/20... Training loss: 0.0996\n"
     ]
    }
   ],
   "source": [
    "epochs = 20\n",
    "batch_size = 200\n",
    "sess.run(tf.global_variables_initializer())\n",
    "for e in range(epochs):\n",
    "    for ii in range(mnist.train.num_examples//batch_size):\n",
    "        batch = mnist.train.next_batch(batch_size)\n",
    "        imgs = batch[0].reshape((-1, 28, 28, 1))\n",
    "        batch_cost, _ = sess.run([cost, opt], feed_dict={inputs_: imgs,\n",
    "                                                         targets_: imgs})\n",
    "\n",
    "    print(\"Epoch: {}/{}...\".format(e+1, epochs),\n",
    "          \"Training loss: {:.4f}\".format(batch_cost))"
   ]
  },
  {
   "cell_type": "code",
   "execution_count": 11,
   "metadata": {},
   "outputs": [
    {
     "data": {
      "image/png": "[encoded data removed]",
      "text/plain": [
       "<matplotlib.figure.Figure at 0x128333080>"
      ]
     },
     "metadata": {},
     "output_type": "display_data"
    }
   ],
   "source": [
    "fig, axes = plt.subplots(nrows=2, ncols=10, sharex=True, sharey=True, figsize=(20,4))\n",
    "in_imgs = mnist.test.images[:10]\n",
    "reconstructed = sess.run(decoded, feed_dict={inputs_: in_imgs.reshape((10, 28, 28, 1))})\n",
    "\n",
    "for images, row in zip([in_imgs, reconstructed], axes):\n",
    "    for img, ax in zip(images, row):\n",
    "        ax.imshow(img.reshape((28, 28)), cmap='Greys_r')\n",
    "        ax.get_xaxis().set_visible(False)\n",
    "        ax.get_yaxis().set_visible(False)\n",
    "\n",
    "\n",
    "fig.tight_layout(pad=0.1)"
   ]
  },
  {
   "cell_type": "code",
   "execution_count": 12,
   "metadata": {},
   "outputs": [],
   "source": [
    "sess.close()"
   ]
  },
  {
   "cell_type": "markdown",
   "metadata": {},
   "source": [
    "## Denoising\n",
    "\n",
    "As I've mentioned before, autoencoders like the ones you've built so far aren't too useful in practive. However, they can be used to denoise images quite successfully just by training the network on noisy images. We can create the noisy images ourselves by adding Gaussian noise to the training images, then clipping the values to be between 0 and 1. We'll use noisy images as input and the original, clean images as targets. Here's an example of the noisy images I generated and the denoised images.\n",
    "\n",
    "![Denoising autoencoder](assets/denoising.png)\n",
    "\n",
    "\n",
    "Since this is a harder problem for the network, we'll want to use deeper convolutional layers here, more feature maps. I suggest something like 32-32-16 for the depths of the convolutional layers in the encoder, and the same depths going backward through the decoder. Otherwise the architecture is the same as before.\n",
    "\n",
    "> **Exercise:** Build the network for the denoising autoencoder. It's the same as before, but with deeper layers. I suggest 32-32-16 for the depths, but you can play with these numbers, or add more layers."
   ]
  },
  {
   "cell_type": "code",
   "execution_count": 13,
   "metadata": {},
   "outputs": [],
   "source": [
    "learning_rate = 0.001\n",
    "inputs_ = tf.placeholder(tf.float32, (None, 28, 28, 1), name='inputs')\n",
    "targets_ = tf.placeholder(tf.float32, (None, 28, 28, 1), name='targets')\n",
    "\n",
    "### Encoder\n",
    "conv1 = tf.layers.conv2d(inputs=inputs_, filters=32, kernel_size=(3, 3), padding='same', activation=tf.nn.relu)\n",
    "# Now 28x28x32\n",
    "maxpool1 = tf.layers.max_pooling2d(inputs=conv1, pool_size=2, strides=2, padding='same')\n",
    "# Now 14x14x32\n",
    "conv2 = tf.layers.conv2d(inputs=maxpool1, filters=32, kernel_size=(3, 3), padding='same', activation=tf.nn.relu)\n",
    "# Now 14x14x32\n",
    "maxpool2 = tf.layers.max_pooling2d(inputs=conv2, pool_size=2, strides=2, padding='same')\n",
    "# Now 7x7x32\n",
    "conv3 = tf.layers.conv2d(inputs=maxpool2, filters=16, kernel_size=(3, 3), padding='same', activation=tf.nn.relu)\n",
    "# Now 7x7x16\n",
    "encoded = tf.layers.max_pooling2d(inputs=conv3, pool_size=2, strides=2, padding='same')\n",
    "# Now 4x4x16\n",
    "\n",
    "### Decoder\n",
    "upsample1 = tf.image.resize_images(images=encoded, size=(7,7))\n",
    "# Now 7x7x16\n",
    "conv4 = tf.layers.conv2d(inputs=upsample1, filters=16, kernel_size=(3, 3), padding='same', activation=tf.nn.relu)\n",
    "# Now 7x7x16\n",
    "upsample2 = tf.image.resize_images(images=conv4, size=(14,14))\n",
    "# Now 14x14x16\n",
    "conv5 = tf.layers.conv2d(inputs=upsample2, filters=32, kernel_size=(3, 3), padding='same', activation=tf.nn.relu)\n",
    "# Now 14x14x32\n",
    "upsample3 = tf.image.resize_images(images=conv5, size=(28,28))\n",
    "# Now 28x28x32\n",
    "conv6 = tf.layers.conv2d(inputs=upsample3, filters=32, kernel_size=(3, 3), padding='same', activation=tf.nn.relu)\n",
    "# Now 28x28x32\n",
    "\n",
    "logits = tf.layers.conv2d(inputs=conv6, filters=1, kernel_size=3, padding='same')\n",
    "#Now 28x28x1\n",
    "\n",
    "# Pass logits through sigmoid to get reconstructed image\n",
    "decoded = tf.nn.sigmoid(logits)\n",
    "\n",
    "# Pass logits through sigmoid and calculate the cross-entropy loss\n",
    "loss = tf.nn.sigmoid_cross_entropy_with_logits(logits=logits, labels=targets_)\n",
    "\n",
    "# Get cost and define the optimizer\n",
    "cost = tf.reduce_mean(loss)\n",
    "opt = tf.train.AdamOptimizer(learning_rate).minimize(cost)"
   ]
  },
  {
   "cell_type": "code",
   "execution_count": 14,
   "metadata": {},
   "outputs": [],
   "source": [
    "sess = tf.Session()"
   ]
  },
  {
   "cell_type": "code",
   "execution_count": null,
   "metadata": {},
   "outputs": [
    {
     "name": "stdout",
     "output_type": "stream",
     "text": [
      "Epoch: 1/100... Training loss: 0.1824\n",
      "Epoch: 2/100... Training loss: 0.1574\n",
      "Epoch: 3/100... Training loss: 0.1495\n",
      "Epoch: 4/100... Training loss: 0.1391\n",
      "Epoch: 5/100... Training loss: 0.1323\n",
      "Epoch: 6/100... Training loss: 0.1278\n",
      "Epoch: 7/100... Training loss: 0.1270\n",
      "Epoch: 8/100... Training loss: 0.1213\n",
      "Epoch: 9/100... Training loss: 0.1207\n",
      "Epoch: 10/100... Training loss: 0.1201\n",
      "Epoch: 11/100... Training loss: 0.1213\n",
      "Epoch: 12/100... Training loss: 0.1246\n",
      "Epoch: 13/100... Training loss: 0.1152\n",
      "Epoch: 14/100... Training loss: 0.1152\n",
      "Epoch: 15/100... Training loss: 0.1148\n",
      "Epoch: 16/100... Training loss: 0.1153\n",
      "Epoch: 17/100... Training loss: 0.1116\n",
      "Epoch: 18/100... Training loss: 0.1127\n",
      "Epoch: 19/100... Training loss: 0.1128\n",
      "Epoch: 20/100... Training loss: 0.1067\n",
      "Epoch: 21/100... Training loss: 0.1056\n",
      "Epoch: 22/100... Training loss: 0.1094\n",
      "Epoch: 23/100... Training loss: 0.1090\n",
      "Epoch: 24/100... Training loss: 0.1052\n",
      "Epoch: 25/100... Training loss: 0.1104\n",
      "Epoch: 26/100... Training loss: 0.1077\n"
     ]
    }
   ],
   "source": [
    "epochs = 100\n",
    "batch_size = 200\n",
    "# Set's how much noise we're adding to the MNIST images\n",
    "noise_factor = 0.5\n",
    "sess.run(tf.global_variables_initializer())\n",
    "for e in range(epochs):\n",
    "    for ii in range(mnist.train.num_examples//batch_size):\n",
    "        batch = mnist.train.next_batch(batch_size)\n",
    "        # Get images from the batch\n",
    "        imgs = batch[0].reshape((-1, 28, 28, 1))\n",
    "        \n",
    "        # Add random noise to the input images\n",
    "        noisy_imgs = imgs + noise_factor * np.random.randn(*imgs.shape)\n",
    "        # Clip the images to be between 0 and 1\n",
    "        noisy_imgs = np.clip(noisy_imgs, 0., 1.)\n",
    "        \n",
    "        # Noisy images as inputs, original images as targets\n",
    "        batch_cost, _ = sess.run([cost, opt], feed_dict={inputs_: noisy_imgs,\n",
    "                                                         targets_: imgs})\n",
    "\n",
    "    print(\"Epoch: {}/{}...\".format(e+1, epochs),\n",
    "          \"Training loss: {:.4f}\".format(batch_cost))"
   ]
  },
  {
   "cell_type": "markdown",
   "metadata": {},
   "source": [
    "## Checking out the performance\n",
    "\n",
    "Here I'm adding noise to the test images and passing them through the autoencoder. It does a suprisingly great job of removing the noise, even though it's sometimes difficult to tell what the original number is."
   ]
  },
  {
   "cell_type": "code",
   "execution_count": 29,
   "metadata": {},
   "outputs": [
    {
     "data": {
      "image/png": "[encoded data removed]",
      "text/plain": [
       "<matplotlib.figure.Figure at 0x7f4624778320>"
      ]
     },
     "metadata": {},
     "output_type": "display_data"
    }
   ],
   "source": [
    "fig, axes = plt.subplots(nrows=2, ncols=10, sharex=True, sharey=True, figsize=(20,4))\n",
    "in_imgs = mnist.test.images[:10]\n",
    "noisy_imgs = in_imgs + noise_factor * np.random.randn(*in_imgs.shape)\n",
    "noisy_imgs = np.clip(noisy_imgs, 0., 1.)\n",
    "\n",
    "reconstructed = sess.run(decoded, feed_dict={inputs_: noisy_imgs.reshape((10, 28, 28, 1))})\n",
    "\n",
    "for images, row in zip([noisy_imgs, reconstructed], axes):\n",
    "    for img, ax in zip(images, row):\n",
    "        ax.imshow(img.reshape((28, 28)), cmap='Greys_r')\n",
    "        ax.get_xaxis().set_visible(False)\n",
    "        ax.get_yaxis().set_visible(False)\n",
    "\n",
    "fig.tight_layout(pad=0.1)"
   ]
  }
 ],
 "metadata": {
  "kernelspec": {
   "display_name": "Python 3",
   "language": "python",
   "name": "python3"
  },
  "language_info": {
   "codemirror_mode": {
    "name": "ipython",
    "version": 3
   },
   "file_extension": ".py",
   "mimetype": "text/x-python",
   "name": "python",
   "nbconvert_exporter": "python",
   "pygments_lexer": "ipython3",
   "version": "3.6.3"
  }
 },
 "nbformat": 4,
 "nbformat_minor": 2
}
