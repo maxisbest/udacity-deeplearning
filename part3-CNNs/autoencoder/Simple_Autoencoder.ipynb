{
 "cells": [
  {
   "cell_type": "markdown",
   "metadata": {},
   "source": [
    "# A Simple Autoencoder\n",
    "\n",
    "We'll start off by building a simple autoencoder to compress the MNIST dataset. With autoencoders, we pass input data through an encoder that makes a compressed representation of the input. Then, this representation is passed through a decoder to reconstruct the input data. Generally the encoder and decoder will be built with neural networks, then trained on example data.\n",
    "\n",
    "![Autoencoder](assets/autoencoder_1.png)\n",
    "\n",
    "In this notebook, we'll be build a simple network architecture for the encoder and decoder. Let's get started by importing our libraries and getting the dataset."
   ]
  },
  {
   "cell_type": "code",
   "execution_count": 21,
   "metadata": {},
   "outputs": [],
   "source": [
    "%matplotlib inline\n",
    "\n",
    "import numpy as np\n",
    "import tensorflow as tf\n",
    "import matplotlib.pyplot as plt"
   ]
  },
  {
   "cell_type": "code",
   "execution_count": 22,
   "metadata": {},
   "outputs": [
    {
     "name": "stdout",
     "output_type": "stream",
     "text": [
      "Extracting MNIST_data/train-images-idx3-ubyte.gz\n",
      "Extracting MNIST_data/train-labels-idx1-ubyte.gz\n",
      "Extracting MNIST_data/t10k-images-idx3-ubyte.gz\n",
      "Extracting MNIST_data/t10k-labels-idx1-ubyte.gz\n"
     ]
    }
   ],
   "source": [
    "from tensorflow.examples.tutorials.mnist import input_data\n",
    "mnist = input_data.read_data_sets('MNIST_data', validation_size=0)"
   ]
  },
  {
   "cell_type": "code",
   "execution_count": 23,
   "metadata": {},
   "outputs": [
    {
     "name": "stdout",
     "output_type": "stream",
     "text": [
      "mnist.train.images is of type <class 'numpy.ndarray'>\n",
      "Its shape is (60000, 784)\n",
      "Normalized? max, min, mean is 1.0 0.0 0.13066062331199646\n"
     ]
    }
   ],
   "source": [
    "print(\"mnist.train.images is of type {}\".format(type(mnist.train.images)))\n",
    "print(\"Its shape is {}\".format(mnist.train.images.shape))\n",
    "print(\"Normalized? max, min, mean is {} {} {}\".format(mnist.train.images.max(), \n",
    "                                                mnist.train.images.min(), mnist.train.images.mean()))"
   ]
  },
  {
   "cell_type": "markdown",
   "metadata": {},
   "source": [
    "Below I'm plotting an example image from the MNIST dataset. These are 28x28 grayscale images of handwritten digits."
   ]
  },
  {
   "cell_type": "code",
   "execution_count": 24,
   "metadata": {},
   "outputs": [
    {
     "name": "stdout",
     "output_type": "stream",
     "text": [
      "Image has its nonzero values between 0 and 1 [ 0.26274511  0.90980399  0.15294118  0.24313727  0.31764707  0.47058827\n",
      "  0.70588237  0.15294118  0.49411768  0.63921571  0.00784314  0.60000002\n",
      "  0.82352948  0.15686275  0.86274517  0.63921571  0.10588236  0.99607849\n",
      "  0.63529414  0.8705883   0.63921571  0.71764708  0.99607849  0.49019611\n",
      "  0.18039216  0.96078438  0.63921571  0.77647066  0.99607849  0.21960786\n",
      "  0.47058827  0.99607849  0.63921571  0.09019608  0.90588242  0.99607849\n",
      "  0.1137255   0.62352943  0.99607849  0.47058827  0.63921571  0.99607849\n",
      "  0.84705889  0.0627451   0.62352943  0.99607849  0.26274511  0.05490196\n",
      "  0.33725491  0.69803923  0.97254908  0.99607849  0.35686275  0.62352943\n",
      "  0.99607849  0.33333334  0.18431373  0.19215688  0.45490199  0.56470591\n",
      "  0.58823532  0.9450981   0.95294124  0.91764712  0.7019608   0.9450981\n",
      "  0.98823535  0.15686275  0.58823532  0.99215692  0.92941183  0.81176478\n",
      "  0.81176478  0.81176478  0.99215692  0.99607849  0.98039222  0.94117653\n",
      "  0.77647066  0.56078434  0.35686275  0.10980393  0.01960784  0.91372555\n",
      "  0.98039222  0.4666667   0.69411767  0.69411767  0.69411767  0.69411767\n",
      "  0.69411767  0.38431376  0.21960786  0.40000004  0.99607849  0.86274517\n",
      "  0.66274512  0.99607849  0.53725493  0.66274512  0.99607849  0.22352943\n",
      "  0.66274512  0.99607849  0.22352943  0.66274512  1.          0.36862746\n",
      "  0.66274512  0.99607849  0.37647063  0.66274512  0.99607849  0.60000002\n",
      "  0.66274512  1.          0.60000002  0.37647063  0.99607849  0.60000002]\n"
     ]
    },
    {
     "data": {
      "text/plain": [
       "<matplotlib.image.AxesImage at 0x11e1446d8>"
      ]
     },
     "execution_count": 24,
     "metadata": {},
     "output_type": "execute_result"
    },
    {
     "data": {
      "image/png": "[encoded data removed]",
      "text/plain": [
       "<matplotlib.figure.Figure at 0x11c0cd4a8>"
      ]
     },
     "metadata": {},
     "output_type": "display_data"
    }
   ],
   "source": [
    "img = mnist.train.images[2]\n",
    "print(\"Image has its nonzero values between 0 and 1\", img[img.nonzero()])\n",
    "plt.imshow(img.reshape((28, 28)), cmap='Greys_r')"
   ]
  },
  {
   "cell_type": "markdown",
   "metadata": {},
   "source": [
    "We'll train an autoencoder with these images by flattening them into 784 length vectors. The images from this dataset are already normalized such that the values are between 0 and 1. Let's start by building basically the simplest autoencoder with a **single ReLU hidden layer**. This layer will be used as the compressed representation. Then, the encoder is the input layer and the hidden layer. The decoder is the hidden layer and the output layer. Since the images are normalized between 0 and 1, we need to use a **sigmoid activation on the output layer** to get values matching the input.\n",
    "\n",
    "![Autoencoder architecture](assets/simple_autoencoder.png)\n",
    "\n",
    "\n",
    "> **Exercise:** Build the graph for the autoencoder in the cell below. The input images will be flattened into 784 length vectors. The targets are the same as the inputs. And there should be one hidden layer with a ReLU activation and an output layer with a sigmoid activation. Feel free to use TensorFlow's higher level API, `tf.layers`. For instance, you would use [`tf.layers.dense(inputs, units, activation=tf.nn.relu)`](https://www.tensorflow.org/api_docs/python/tf/layers/dense) to create a fully connected layer with a ReLU activation. The loss should be calculated with the cross-entropy loss, there is a convenient TensorFlow function for this `tf.nn.sigmoid_cross_entropy_with_logits` ([documentation](https://www.tensorflow.org/api_docs/python/tf/nn/sigmoid_cross_entropy_with_logits)). You should note that `tf.nn.sigmoid_cross_entropy_with_logits` takes the logits, but to get the reconstructed images you'll need to pass the logits through the sigmoid function."
   ]
  },
  {
   "cell_type": "code",
   "execution_count": 25,
   "metadata": {},
   "outputs": [
    {
     "name": "stdout",
     "output_type": "stream",
     "text": [
      "The image size is:  784\n",
      "The type of the images is : <class 'numpy.ndarray'>\n"
     ]
    }
   ],
   "source": [
    "image_size = mnist.train.images.shape[1]\n",
    "print(\"The image size is: \", image_size)\n",
    "print(\"The type of the images is :\", type(mnist.train.images))"
   ]
  },
  {
   "cell_type": "code",
   "execution_count": 26,
   "metadata": {},
   "outputs": [
    {
     "name": "stdout",
     "output_type": "stream",
     "text": [
      "We are encoding it as a size:  32\n"
     ]
    }
   ],
   "source": [
    "# Size of the encoding layer (the hidden layer)\n",
    "encoding_dim = 32 # feel free to change this value\n",
    "print(\"We are encoding it as a size: \", encoding_dim)"
   ]
  },
  {
   "cell_type": "code",
   "execution_count": 27,
   "metadata": {},
   "outputs": [
    {
     "name": "stdout",
     "output_type": "stream",
     "text": [
      "This is our placeholder for the inputs:  Tensor(\"inputs_1:0\", shape=(?, 784), dtype=float32)\n"
     ]
    }
   ],
   "source": [
    "# Input and target placeholders\n",
    "inputs_ = tf.placeholder(tf.float32, [None, image_size], name='inputs')\n",
    "print(\"This is our placeholder for the inputs: \", inputs_)"
   ]
  },
  {
   "cell_type": "code",
   "execution_count": 28,
   "metadata": {},
   "outputs": [
    {
     "name": "stdout",
     "output_type": "stream",
     "text": [
      "Targets are the same size as the original images:  Tensor(\"targets_1:0\", shape=(?, 784), dtype=float32)\n"
     ]
    }
   ],
   "source": [
    "# Target has the same size as the input image, since it is its reconstruction\n",
    "targets_ = tf.placeholder(tf.float32, [None, image_size], name='targets')\n",
    "print(\"Targets are the same size as the original images: \", targets_)"
   ]
  },
  {
   "cell_type": "code",
   "execution_count": 29,
   "metadata": {},
   "outputs": [
    {
     "name": "stdout",
     "output_type": "stream",
     "text": [
      "This is the encoding layer:  Tensor(\"dense_3/Relu:0\", shape=(?, 32), dtype=float32)\n"
     ]
    }
   ],
   "source": [
    "# Output of hidden layer, single fully connected layer here with ReLU activation\n",
    "\n",
    "# Arguments of tf.layers.dense are the inputs, the output dimension and the activation\n",
    "encoded = tf.layers.dense(inputs_, encoding_dim, activation=tf.nn.relu)\n",
    "print(\"This is the encoding layer: \", encoded)"
   ]
  },
  {
   "cell_type": "code",
   "execution_count": 30,
   "metadata": {},
   "outputs": [
    {
     "name": "stdout",
     "output_type": "stream",
     "text": [
      "This is the output layer before sigmoid:  Tensor(\"dense_4/BiasAdd:0\", shape=(?, 784), dtype=float32)\n"
     ]
    }
   ],
   "source": [
    "# Output layer logits, fully connected layer with no activation\n",
    "logits = tf.layers.dense(encoded, image_size, activation=None)\n",
    "print(\"This is the output layer before sigmoid: \", logits)"
   ]
  },
  {
   "cell_type": "code",
   "execution_count": 31,
   "metadata": {},
   "outputs": [
    {
     "name": "stdout",
     "output_type": "stream",
     "text": [
      "Decoded is the sigmoid applied to the logits:  Tensor(\"output_1:0\", shape=(?, 784), dtype=float32)\n"
     ]
    }
   ],
   "source": [
    "# Sigmoid output from logits\n",
    "decoded = tf.nn.sigmoid(logits, name='output')\n",
    "# flat images of the same size as the original images\n",
    "print(\"Decoded is the sigmoid applied to the logits: \", decoded)"
   ]
  },
  {
   "cell_type": "code",
   "execution_count": 32,
   "metadata": {},
   "outputs": [
    {
     "name": "stdout",
     "output_type": "stream",
     "text": [
      "Loss is calculated with the logits and the targets since the loss function applies sigmoid:  Tensor(\"logistic_loss_1:0\", shape=(?, 784), dtype=float32)\n"
     ]
    }
   ],
   "source": [
    "# Sigmoid cross-entropy loss\n",
    "# We are taking logits here, since the loss function already applies sigmoid to the logits\n",
    "# So the loss is calculated with the decoded images:\n",
    "# (from the documentation): let x = logits, z = labels. The logistic loss is\n",
    "# z * -log(sigmoid(x)) + (1 - z) * -log(1 - sigmoid(x))\n",
    "loss = tf.nn.sigmoid_cross_entropy_with_logits(logits=logits, labels=targets_)\n",
    "# the loss is per unit:\n",
    "# returns a Tensor of the same shape as logits with the componentwise logistic losses.\n",
    "print(\"Loss is calculated with the logits and the targets since the loss function applies sigmoid: \", loss)"
   ]
  },
  {
   "cell_type": "code",
   "execution_count": 33,
   "metadata": {},
   "outputs": [
    {
     "name": "stdout",
     "output_type": "stream",
     "text": [
      "Cost is a sum over the losses:  Tensor(\"Mean_4:0\", shape=(), dtype=float32)\n"
     ]
    }
   ],
   "source": [
    "# Mean of the loss\n",
    "cost = tf.reduce_mean(loss)\n",
    "# sums up the losses\n",
    "# example from the documentation:\n",
    "x = tf.constant([[1., 1.], [2., 2.]])\n",
    "tf.reduce_mean(x)  # 1.5\n",
    "tf.reduce_mean(x, 0)  # [1.5, 1.5]\n",
    "tf.reduce_mean(x, 1)  # [1.,  2.]\n",
    "\n",
    "print(\"Cost is a sum over the losses: \", cost)"
   ]
  },
  {
   "cell_type": "code",
   "execution_count": 34,
   "metadata": {},
   "outputs": [
    {
     "name": "stdout",
     "output_type": "stream",
     "text": [
      "Optimizer:  name: \"Adam_1\"\n",
      "op: \"NoOp\"\n",
      "input: \"^Adam_1/update_dense_2/kernel/ApplyAdam\"\n",
      "input: \"^Adam_1/update_dense_2/bias/ApplyAdam\"\n",
      "input: \"^Adam_1/update_dense_3/kernel/ApplyAdam\"\n",
      "input: \"^Adam_1/update_dense_3/bias/ApplyAdam\"\n",
      "input: \"^Adam_1/Assign\"\n",
      "input: \"^Adam_1/Assign_1\"\n",
      "\n"
     ]
    }
   ],
   "source": [
    "# Adam optimizer\n",
    "opt = tf.train.AdamOptimizer(0.001).minimize(cost)\n",
    "print('Optimizer: ', opt)"
   ]
  },
  {
   "cell_type": "markdown",
   "metadata": {},
   "source": [
    "## Training"
   ]
  },
  {
   "cell_type": "code",
   "execution_count": 35,
   "metadata": {},
   "outputs": [
    {
     "name": "stdout",
     "output_type": "stream",
     "text": [
      "Session:  <tensorflow.python.client.session.Session object at 0x11e108048>\n"
     ]
    }
   ],
   "source": [
    "# Create the session\n",
    "sess = tf.Session()\n",
    "print(\"Session: \", sess)"
   ]
  },
  {
   "cell_type": "markdown",
   "metadata": {},
   "source": [
    "Here I'll write a bit of code to train the network. I'm not too interested in validation here, so I'll just monitor the training loss. \n",
    "\n",
    "Calling `mnist.train.next_batch(batch_size)` will return a tuple of `(images, labels)`. We're not concerned with the labels here, we just need the images. Otherwise this is pretty straightfoward training with TensorFlow. We initialize the variables with `sess.run(tf.global_variables_initializer())`. Then, run the optimizer and get the loss with `batch_cost, _ = sess.run([cost, opt], feed_dict=feed)`."
   ]
  },
  {
   "cell_type": "code",
   "execution_count": 36,
   "metadata": {},
   "outputs": [
    {
     "name": "stdout",
     "output_type": "stream",
     "text": [
      "Epoch: 1/20... Training loss: 0.1822\n",
      "Epoch: 2/20... Training loss: 0.1437\n",
      "Epoch: 3/20... Training loss: 0.1253\n",
      "Epoch: 4/20... Training loss: 0.1154\n",
      "Epoch: 5/20... Training loss: 0.1096\n",
      "Epoch: 6/20... Training loss: 0.1042\n",
      "Epoch: 7/20... Training loss: 0.0994\n",
      "Epoch: 8/20... Training loss: 0.0948\n",
      "Epoch: 9/20... Training loss: 0.0958\n",
      "Epoch: 10/20... Training loss: 0.0930\n",
      "Epoch: 11/20... Training loss: 0.0933\n",
      "Epoch: 12/20... Training loss: 0.0916\n",
      "Epoch: 13/20... Training loss: 0.0931\n",
      "Epoch: 14/20... Training loss: 0.0952\n",
      "Epoch: 15/20... Training loss: 0.0945\n",
      "Epoch: 16/20... Training loss: 0.0947\n",
      "Epoch: 17/20... Training loss: 0.0941\n",
      "Epoch: 18/20... Training loss: 0.0939\n",
      "Epoch: 19/20... Training loss: 0.0906\n",
      "Epoch: 20/20... Training loss: 0.0956\n"
     ]
    }
   ],
   "source": [
    "epochs = 20\n",
    "\n",
    "batch_size = 200\n",
    "\n",
    "# the session is run with an initilization\n",
    "sess.run(tf.global_variables_initializer())\n",
    "\n",
    "for e in range(epochs):\n",
    "    \n",
    "    # now we are getting to the data\n",
    "    for ii in range(mnist.train.num_examples//batch_size):\n",
    "        \n",
    "        # the data is loaded into a batch\n",
    "        batch = mnist.train.next_batch(batch_size)\n",
    "        \n",
    "        # inputs and targets are loaded into the feed\n",
    "        feed = {inputs_: batch[0], targets_: batch[0]}\n",
    "        \n",
    "        # the feed is put into the running session and cost is an output\n",
    "        batch_cost, _ = sess.run([cost, opt], feed_dict=feed)\n",
    "\n",
    "    print(\"Epoch: {}/{}...\".format(e+1, epochs),\n",
    "          \"Training loss: {:.4f}\".format(batch_cost))"
   ]
  },
  {
   "cell_type": "markdown",
   "metadata": {},
   "source": [
    "## Checking out the results\n",
    "\n",
    "Below I've plotted some of the test images along with their reconstructions. For the most part these look pretty good except for some blurriness in some parts."
   ]
  },
  {
   "cell_type": "code",
   "execution_count": 37,
   "metadata": {},
   "outputs": [
    {
     "data": {
      "image/png": "[encoded data removed]",
      "text/plain": [
       "<matplotlib.figure.Figure at 0x12193cf60>"
      ]
     },
     "metadata": {},
     "output_type": "display_data"
    }
   ],
   "source": [
    "# 2 rows, 10 columns\n",
    "fig, axes = plt.subplots(nrows=2, ncols=10, sharex=True, sharey=True, figsize=(20,4))\n",
    "\n",
    "# input images\n",
    "in_imgs = mnist.test.images[:10]\n",
    "\n",
    "# you can tell the session which output you want\n",
    "reconstructed, compressed = sess.run([decoded, encoded], feed_dict={inputs_: in_imgs})\n",
    "\n",
    "# show the images\n",
    "for images, row in zip([in_imgs, reconstructed], axes):\n",
    "    for img, ax in zip(images, row):\n",
    "        ax.imshow(img.reshape((28, 28)), cmap='Greys_r')\n",
    "        ax.get_xaxis().set_visible(False)\n",
    "        ax.get_yaxis().set_visible(False)\n",
    "\n",
    "# suppress the axes\n",
    "fig.tight_layout(pad=0.1)"
   ]
  },
  {
   "cell_type": "code",
   "execution_count": 38,
   "metadata": {},
   "outputs": [],
   "source": [
    "sess.close()"
   ]
  },
  {
   "cell_type": "markdown",
   "metadata": {
    "collapsed": true
   },
   "source": [
    "## Up Next\n",
    "\n",
    "We're dealing with images here, so we can (usually) get better performance using convolution layers. So, next we'll build a better autoencoder with convolutional layers.\n",
    "\n",
    "In practice, autoencoders aren't actually better at compression compared to typical methods like JPEGs and MP3s. But, they are being used for noise reduction, which you'll also build."
   ]
  }
 ],
 "metadata": {
  "kernelspec": {
   "display_name": "Python 3",
   "language": "python",
   "name": "python3"
  },
  "language_info": {
   "codemirror_mode": {
    "name": "ipython",
    "version": 3
   },
   "file_extension": ".py",
   "mimetype": "text/x-python",
   "name": "python",
   "nbconvert_exporter": "python",
   "pygments_lexer": "ipython3",
   "version": "3.6.3"
  }
 },
 "nbformat": 4,
 "nbformat_minor": 2
}
